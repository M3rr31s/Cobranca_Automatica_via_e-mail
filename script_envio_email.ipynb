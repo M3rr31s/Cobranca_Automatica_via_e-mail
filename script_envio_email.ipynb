{
 "cells": [
  {
   "cell_type": "code",
   "execution_count": 7,
   "metadata": {},
   "outputs": [],
   "source": [
    "class conexao():\n",
    "    \n",
    "    def __init__(self, path_db='path_database'):\n",
    "        self.path_db = path_db\n",
    "        self.comando_conexao()\n",
    "        return\n",
    "    \n",
    "    def comando_conexao(self):\n",
    "        import sqlite3\n",
    "        \n",
    "        self.conn = sqlite3.connect(self.path_db,timeout=30)\n",
    "        \n",
    "        self.cursor = self.conn.cursor()\n",
    "        print(\"Conexão Feita ! \")\n",
    "        \n",
    "        return \n",
    "\n",
    "    def executar_comando(self, comando):\n",
    "\n",
    "        self.cursor.execute(comando)\n",
    "        dados = self.cursor.fetchall()\n",
    "        dados = [list(i) for i in dados]\n",
    "        colunas = [i[0] for i in self.cursor.description]\n",
    "        \n",
    "        from pandas import DataFrame\n",
    "        \n",
    "        return DataFrame(dados, columns=colunas)\n",
    "    \n",
    "    def desconectar(self):\n",
    "        print('Conexão Derrubada ! ')\n",
    "        x = self.conn.close()\n",
    "        "
   ]
  },
  {
   "cell_type": "code",
   "execution_count": 11,
   "metadata": {},
   "outputs": [
    {
     "name": "stdout",
     "output_type": "stream",
     "text": [
      "Conexão Derrubada ! \n"
     ]
    }
   ],
   "source": [
    "x.desconectar()"
   ]
  }
 ],
 "metadata": {
  "kernelspec": {
   "display_name": "Python 3",
   "language": "python",
   "name": "python3"
  },
  "language_info": {
   "codemirror_mode": {
    "name": "ipython",
    "version": 3
   },
   "file_extension": ".py",
   "mimetype": "text/x-python",
   "name": "python",
   "nbconvert_exporter": "python",
   "pygments_lexer": "ipython3",
   "version": "3.12.1"
  }
 },
 "nbformat": 4,
 "nbformat_minor": 2
}
